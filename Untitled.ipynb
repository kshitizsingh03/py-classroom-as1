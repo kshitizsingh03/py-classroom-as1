{
 "cells": [
  {
   "cell_type": "code",
   "execution_count": null,
   "id": "a3c63971-6c78-4738-9cf6-a08404444742",
   "metadata": {},
   "outputs": [],
   "source": [
    "# print hello word\n",
    "a = (\"hello word\")\n",
    "print(a)"
   ]
  },
  {
   "cell_type": "code",
   "execution_count": 4,
   "id": "a2c0d291-9c51-473b-92bb-64a878c0fb8b",
   "metadata": {},
   "outputs": [
    {
     "name": "stdout",
     "output_type": "stream",
     "text": [
      "Singh  Kshitiz\n"
     ]
    }
   ],
   "source": [
    "# it is use to revers the first name and last name\n",
    "name = \"Kshitiz Singh\"\n",
    "name_parts = name.split()\n",
    "reversed_name =\" \" .join(name_parts[::-1])\n",
    "print(reversed_name)\n"
   ]
  },
  {
   "cell_type": "code",
   "execution_count": null,
   "id": "7f46fe29-875a-4109-92f4-4199f6881c9a",
   "metadata": {},
   "outputs": [],
   "source": [
    "# print float, int, complex value \n",
    "user_input= input(\"enter your number\")\n",
    "try:\n",
    "    float_value = float(user_input)\n",
    "    int_value = int(float_value)\n",
    "    complex_value = complex(user_input)\n",
    "    print(f\"orignal vale is : {user_input}\")\n",
    "    print(f\"float value is :{float_value}\")\n",
    "    print(f\"int value is : {int_value}\")\n",
    "    print(f\"complex value is : {complex_value}\")\n",
    "except:\n",
    "    print(\"invalid number| , give vaild number\")"
   ]
  },
  {
   "cell_type": "code",
   "execution_count": null,
   "id": "f020dfba-a892-4015-9e73-4d7c746b440c",
   "metadata": {},
   "outputs": [],
   "source": [
    "# find out area of reactagular\n",
    "lenght= float (input(\"enter value of length\"))\n",
    "breath= float (input(\"enter value of breath\"))\n",
    "area= lenght*breath\n",
    "print(area, \"it is area of rectangular\")"
   ]
  },
  {
   "cell_type": "code",
   "execution_count": null,
   "id": "3209a483-4936-4ffd-9045-564bd8419140",
   "metadata": {},
   "outputs": [],
   "source": [
    "# find the avrage of three number\n",
    "a= float(input(\"enter you first number\"))\n",
    "b= float(input(\"enter your second number\"))\n",
    "c= float(input(\"enter your third number\"))\n",
    "sum= a+b+c\n",
    "avrage= sum/2\n",
    "print(avrage,\"the avrage of three\")"
   ]
  },
  {
   "cell_type": "code",
   "execution_count": null,
   "id": "e989505e-fe14-4c6c-90ef-7c4012cd5b6d",
   "metadata": {},
   "outputs": [],
   "source": [
    "# find the postive, negative,zero\n",
    "user_input= int(input(\"enter your number you want to check\"))\n",
    "if user_input==0:\n",
    "    print(user_input,\"it is zero value\")\n",
    "elif user_input >= 0:\n",
    "    print(user_input,\"it is positve number\")\n",
    "else:\n",
    "    print(user_input,\"it is negative\")"
   ]
  },
  {
   "cell_type": "code",
   "execution_count": null,
   "id": "75aee02c-4b0a-43e1-afa6-636d2567faaf",
   "metadata": {},
   "outputs": [],
   "source": [
    "# to find a number is positive , negative or zero\n",
    "while True:\n",
    "    user_inter= float(input(\"enter your number, you want exit type (exit)\"))\n",
    "    if  user_inter == exit:\n",
    "        print(\"terminate\")\n",
    "        break\n",
    "    try:\n",
    "        if user_inter== 0:\n",
    "            print(f\"{user_inter},is a zero number\")\n",
    "        elif user_inter >= 0:\n",
    "            print(f\"{user_inter}, is a postive number\")\n",
    "        else :\n",
    "            print(f\"{user_inter}, is a negative number\")\n",
    "            \n",
    "    except:\n",
    "        print(\"invalid number plz try again\")\n",
    "        continue"
   ]
  },
  {
   "cell_type": "code",
   "execution_count": null,
   "id": "2f75efa9-d994-463c-8f93-acbd1cb4e74b",
   "metadata": {},
   "outputs": [],
   "source": [
    "# even odd decetion\n",
    "a= int(input(\"enter your first number\"))\n",
    "b= int(input(\"enter your second number\"))\n",
    "if a%2==0  and b%2==0 :\n",
    "    print (\"it is even number\")\n",
    "elif a%2==0 and b%2 !=0:\n",
    "    print(\"first number even and second number is odd\")\n",
    "elif a%2 !=0 and b%2 ==0 :\n",
    "    print(\"first number is odd and second number is even\")\n",
    "elif a%2 != 0 and b%2 !=0 :\n",
    "  print(\"it is odd number\")\n",
    "else:\n",
    "    print(\"not define number\")  "
   ]
  },
  {
   "cell_type": "code",
   "execution_count": null,
   "id": "455bde7e-4299-4256-b018-9834daefbc15",
   "metadata": {},
   "outputs": [],
   "source": [
    "def decimal_to_bases(num):\n",
    "    binary = ''\n",
    "    octal = ''\n",
    "    hexadecimal = ''\n",
    "    for i in range(num.bit_length() - 1, -1, -1):  \n",
    "        binary += '1' if (num >> i) & 1 else '0'\n",
    "    \n",
    "    for i in range((num.bit_length() + 2) // 3 * 3 - 1, -1, -3):\n",
    "        group = (num >> i) & 0b111  \n",
    "        octal += str(group)\n",
    "    for i in range((num.bit_length() + 3) // 4 * 4 - 1, -1, -4):\n",
    "        group = (num >> i) & 0b1111  \n",
    "        hexadecimal += format(group, 'x') \n",
    "    \n",
    "    return binary, octal, hexadecimal\n",
    "\n",
    "number = int(input(\"Enter an integer: \"))\n",
    "\n",
    "binary, octal, hexadecimal = decimal_to_bases(number)\n",
    "\n",
    "print(f\"Binary equivalent: {binary}\")\n",
    "print(f\"Octal equivalent: {octal}\")\n",
    "print(f\"Hexadecimal equivalent: {hexadecimal}\")"
   ]
  }
 ],
 "metadata": {
  "kernelspec": {
   "display_name": "Python 3 (ipykernel)",
   "language": "python",
   "name": "python3"
  },
  "language_info": {
   "codemirror_mode": {
    "name": "ipython",
    "version": 3
   },
   "file_extension": ".py",
   "mimetype": "text/x-python",
   "name": "python",
   "nbconvert_exporter": "python",
   "pygments_lexer": "ipython3",
   "version": "3.12.4"
  }
 },
 "nbformat": 4,
 "nbformat_minor": 5
}
